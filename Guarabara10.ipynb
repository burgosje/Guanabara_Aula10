{
  "nbformat": 4,
  "nbformat_minor": 0,
  "metadata": {
    "colab": {
      "provenance": [],
      "authorship_tag": "ABX9TyNo3yi6QLLPahdws8OM27ml",
      "include_colab_link": true
    },
    "kernelspec": {
      "name": "python3",
      "display_name": "Python 3"
    },
    "language_info": {
      "name": "python"
    }
  },
  "cells": [
    {
      "cell_type": "markdown",
      "metadata": {
        "id": "view-in-github",
        "colab_type": "text"
      },
      "source": [
        "<a href=\"https://colab.research.google.com/github/burgosje/Guanabara_Aula10/blob/main/Guarabara10.ipynb\" target=\"_parent\"><img src=\"https://colab.research.google.com/assets/colab-badge.svg\" alt=\"Open In Colab\"/></a>"
      ]
    },
    {
      "cell_type": "markdown",
      "source": [
        "Aula 10 Cuso em Vídeo Guanabara"
      ],
      "metadata": {
        "id": "O0PyCf3QqNVP"
      }
    },
    {
      "cell_type": "markdown",
      "source": [
        "\n",
        "Condições simples e compostas\n"
      ],
      "metadata": {
        "id": "o8CFrvkLByR7"
      }
    },
    {
      "cell_type": "markdown",
      "source": [
        "Condição\n",
        "(Ou o True ou o False)"
      ],
      "metadata": {
        "id": "hog10em9Fqft"
      }
    },
    {
      "cell_type": "code",
      "source": [
        "if carro.esquerda():\n",
        "  bloco True\n",
        "else:\n",
        "  bloco False"
      ],
      "metadata": {
        "id": "-UE7x3v-FXLO"
      },
      "execution_count": null,
      "outputs": []
    },
    {
      "cell_type": "code",
      "source": [
        "tempo = int(input('Quantos anos tem seu carro? '))\n",
        "\n",
        "if tempo <= 3:\n",
        "  print('Carro novo')\n",
        "else:\n",
        "  print('Carro velho')\n",
        "print('--FIM--')"
      ],
      "metadata": {
        "colab": {
          "base_uri": "https://localhost:8080/"
        },
        "id": "vnxVZ6YcFsi9",
        "outputId": "e55b3d45-4bf5-429f-bebf-290caf94c921"
      },
      "execution_count": null,
      "outputs": [
        {
          "output_type": "stream",
          "name": "stdout",
          "text": [
            "Quantos anos tem seu carro? 2\n",
            "Carro novo\n",
            "--FIM--\n"
          ]
        }
      ]
    },
    {
      "cell_type": "markdown",
      "source": [
        "Condição simplificada"
      ],
      "metadata": {
        "id": "zJ13eYDjGZPp"
      }
    },
    {
      "cell_type": "code",
      "source": [
        "tempo = int(input('Quantos anos tem seu carro? '))\n",
        "\n",
        "print('Carro novo' if tempo <= 3 else 'Carro velho')\n",
        "print('--FIM--')\n"
      ],
      "metadata": {
        "colab": {
          "base_uri": "https://localhost:8080/"
        },
        "id": "Y199gpAfGa5U",
        "outputId": "2e60901e-973c-46ab-a0fd-ac9c5920ada6"
      },
      "execution_count": null,
      "outputs": [
        {
          "output_type": "stream",
          "name": "stdout",
          "text": [
            "Quantos anos tem seu carro? 4\n",
            "Carro velho\n",
            "--FIM--\n"
          ]
        }
      ]
    },
    {
      "cell_type": "code",
      "source": [
        "nome = input('Qual é seu nome? ')\n",
        "if nome == 'Jé':\n",
        "  print('Legal!')\n",
        "else:\n",
        "  print('Que massa!')\n",
        "print('Bom dia, {}'.format(nome))"
      ],
      "metadata": {
        "colab": {
          "base_uri": "https://localhost:8080/"
        },
        "id": "J9IyZnYOG_Am",
        "outputId": "942fbe14-d707-43a7-b724-c80b5319826c"
      },
      "execution_count": null,
      "outputs": [
        {
          "output_type": "stream",
          "name": "stdout",
          "text": [
            "Qual é seu nome? Tati\n",
            "Que massa!\n",
            "Bom dia, Tati\n"
          ]
        }
      ]
    },
    {
      "cell_type": "code",
      "source": [
        "n1 = float(input('Digite a primeira nota: '))\n",
        "n2 = float(input('Digite a segunda nota: '))\n",
        "m = (n1 + n2) / 2\n",
        "print('A sua média foi {:.1f}'.format(m))\n",
        "if m >= 6.0:\n",
        "  print('Sua média foi boa: parabéns!')\n",
        "else:\n",
        "  print('Você fará melhor no futuro!')"
      ],
      "metadata": {
        "colab": {
          "base_uri": "https://localhost:8080/"
        },
        "id": "ait_0gptIAHy",
        "outputId": "78812d35-ca53-4899-a8e4-473d24fc1506"
      },
      "execution_count": null,
      "outputs": [
        {
          "output_type": "stream",
          "name": "stdout",
          "text": [
            "Digite a primeira nota: 4\n",
            "Digite a segunda nota: 2\n",
            "A sua média foi 3.0\n",
            "Você fará melhor no futuro!\n"
          ]
        }
      ]
    },
    {
      "cell_type": "code",
      "source": [
        "n1 = float(input('Digite a primeira nota: '))\n",
        "n2 = float(input('Digite a segunda nota: '))\n",
        "m = (n1 + n2) / 2\n",
        "print('A sua média foi {:.1f}'.format(m))\n",
        "print('Parabéns!' if m >= 6 else 'Você fará melhor no futuro!')"
      ],
      "metadata": {
        "colab": {
          "base_uri": "https://localhost:8080/"
        },
        "id": "IPIXSIn8JkWV",
        "outputId": "893e57b9-5307-41a6-ee16-7e2f2f097aa0"
      },
      "execution_count": null,
      "outputs": [
        {
          "output_type": "stream",
          "name": "stdout",
          "text": [
            "Digite a primeira nota: 10\n",
            "Digite a segunda nota: 8\n",
            "A sua média foi 9.0\n",
            "Parabéns\n"
          ]
        }
      ]
    },
    {
      "cell_type": "markdown",
      "source": [
        "Escreve um programa que faça o computador \"pensar\" em um número inteiro entre 0 e 5 e peça para o usuário tentar descobrir qual foi o número escolhido pelo computador.\n",
        "O programa deverá escrever na tela se o usuário venceu ou perdeu."
      ],
      "metadata": {
        "id": "sXIjEW6fLrGj"
      }
    },
    {
      "cell_type": "code",
      "source": [
        "from random import randint\n",
        "computador = randint(0, 5)\n",
        "print('-=-' * 20)\n",
        "print('Vou pensar em um número entre 0 e 5. Tente adivinhar...')\n",
        "print('-=-' * 20)\n",
        "jogador = int(input('Em que número eu pensei? '))\n",
        "if jogador == computador:\n",
        "  print('Parabéns! Você venceu!')\n",
        "else:\n",
        "  print('Ganhei! Eu pensei no número {} e não no número {}!'.format(computador, jogador))"
      ],
      "metadata": {
        "colab": {
          "base_uri": "https://localhost:8080/"
        },
        "id": "WVQKZIXam1_l",
        "outputId": "1c6b7037-e4bb-448f-950d-6ba1f9a73567"
      },
      "execution_count": null,
      "outputs": [
        {
          "output_type": "stream",
          "name": "stdout",
          "text": [
            "-=--=--=--=--=--=--=--=--=--=--=--=--=--=--=--=--=--=--=--=-\n",
            "Vou pensar em um número entre 0 e 5. Tente adivinhar...\n",
            "-=--=--=--=--=--=--=--=--=--=--=--=--=--=--=--=--=--=--=--=-\n",
            "Em que número eu pensei? 5\n",
            "Parabéns! Você venceu!\n"
          ]
        }
      ]
    },
    {
      "cell_type": "code",
      "source": [
        "velocidade = float(input('Qual a velocidade atual do carro? '))\n",
        "if velocidade > 80:\n",
        "  print('Você excedeu o limite de velocidade e foi multado')\n",
        "  multa = (velocidade - 80) * 7\n",
        "  print('Você deve pagar uma multa de R$ {:.2f}!'.format(multa))\n",
        "else:\n",
        "  print('Tenha um bom dia! Dirija com segurança.')\n",
        "\n",
        "\n"
      ],
      "metadata": {
        "id": "M6N0G05IMMMG"
      },
      "execution_count": null,
      "outputs": []
    },
    {
      "cell_type": "code",
      "source": [
        "numero = int(input('Me diga um número inteiro: '))\n",
        "resultado = numero % 2\n",
        "if resultado == 0:\n",
        "  print('O número é par.')\n",
        "else:\n",
        "  print('O número é ímpar.')"
      ],
      "metadata": {
        "colab": {
          "base_uri": "https://localhost:8080/"
        },
        "id": "HGd1WIJuN4_X",
        "outputId": "623d553e-250e-43f8-d05d-f561934d350b"
      },
      "execution_count": null,
      "outputs": [
        {
          "output_type": "stream",
          "name": "stdout",
          "text": [
            "Me diga um número inteiro: 3\n",
            "O número é ímpar.\n"
          ]
        }
      ]
    },
    {
      "cell_type": "code",
      "source": [
        "distancia = int(input('Digite a distância da viagem em km: '))\n",
        "if distancia <= 200:\n",
        "  passagem = distancia * 0.5\n",
        "  print('O valor da passagem é: ', passagem)\n",
        "else:\n",
        "  passagem = distancia * 0.45\n",
        "  print('O valor da passagem é: ', passagem)"
      ],
      "metadata": {
        "colab": {
          "base_uri": "https://localhost:8080/"
        },
        "id": "5SUMhb0MOv9B",
        "outputId": "a3764563-9306-4492-abad-2ee6d052ed9f"
      },
      "execution_count": null,
      "outputs": [
        {
          "output_type": "stream",
          "name": "stdout",
          "text": [
            "Digite a distância da viagem em km: 300\n",
            "O valor da passagem é:  135.0\n"
          ]
        }
      ]
    },
    {
      "cell_type": "code",
      "source": [
        "ano = int(input('Digite quantos dias tem no ano: '))\n",
        "\n",
        "if ano == 366:\n",
        "  print('O ano é bissexto')\n",
        "else:\n",
        "  print('O ano é normal')"
      ],
      "metadata": {
        "colab": {
          "base_uri": "https://localhost:8080/"
        },
        "id": "TmK1e9uzPtRI",
        "outputId": "34f26e9f-b1d8-46ad-ce1b-98a20ed4e5d7"
      },
      "execution_count": null,
      "outputs": [
        {
          "output_type": "stream",
          "name": "stdout",
          "text": [
            "Digite quantos dias tem no ano: 365\n",
            "O ano é normal\n"
          ]
        }
      ]
    },
    {
      "cell_type": "code",
      "source": [
        "a = int(input('Primeiro valor: '))\n",
        "b = int(input('Segundo valor: '))\n",
        "c = int(input('Terceiro valor: '))\n",
        "menor = a\n",
        "if b < a and b < c:\n",
        "  menor = b\n",
        "if c < a and c < b:\n",
        "  menor = c\n",
        "maior = a\n",
        "if b > a and b > c:\n",
        "  maior = b\n",
        "if c > a and c > b:\n",
        "  maior = c\n",
        "print('O menor valor digitado foi {}:'.format(menor))\n",
        "print('O maior valor digitador foi {}:'.format(maior))"
      ],
      "metadata": {
        "colab": {
          "base_uri": "https://localhost:8080/"
        },
        "id": "IbM-X4pbR0gU",
        "outputId": "ec1aa364-734a-48ca-c2c4-9f8b3d2cb8ec"
      },
      "execution_count": null,
      "outputs": [
        {
          "output_type": "stream",
          "name": "stdout",
          "text": [
            "Primeiro valor: 8\n",
            "Segundo valor: 5\n",
            "Terceiro valor: 3\n",
            "O menor valor digitado foi 3:\n",
            "O maior valor digitador foi 8:\n"
          ]
        }
      ]
    },
    {
      "cell_type": "code",
      "source": [
        "salario = float(input('Digite seu salário: '))\n",
        "\n",
        "if salario > 1250:\n",
        "  aumento1 = salario * 1.10\n",
        "  print('Seu salário final é: ', aumento1)\n",
        "else:\n",
        "  aumento2 = salario * 1.15\n",
        "  print('Seu salário final é: ', aumento2)\n"
      ],
      "metadata": {
        "id": "CxAORSg6R8Hj"
      },
      "execution_count": null,
      "outputs": []
    }
  ]
}